{
 "cells": [
  {
   "cell_type": "code",
   "execution_count": null,
   "metadata": {},
   "outputs": [],
   "source": [
    "import pyspark\n",
    "from pyspark.sql import SparkSession\n",
    "from pyspark.sql.functions import col, lit, sum as spark_sum, countDistinct, when\n",
    "import time\n",
    "\n",
    "# Initialize Spark session with Delta Lake configuration\n",
    "spark = SparkSession.builder \\\n",
    "    .appName(\"spotify-datalake-delta\") \\\n",
    "    .config(\"spark.jars.packages\", \"io.delta:delta-core_2.12:2.4.0\") \\\n",
    "    .config(\"spark.sql.extensions\", \"io.delta.sql.DeltaSparkSessionExtension\") \\\n",
    "    .config(\"spark.sql.catalog.spark_catalog\", \"org.apache.spark.sql.delta.catalog.DeltaCatalog\") \\\n",
    "    .config(\"spark.executor.instances\", \"2\") \\\n",
    "    .config(\"spark.executor.cores\", \"2\") \\\n",
    "    .config(\"spark.executor.memory\", \"1024M\") \\\n",
    "    .getOrCreate()\n",
    "\n",
    "spark.sparkContext.setLogLevel(\"WARN\")"
   ]
  },
  {
   "cell_type": "code",
   "execution_count": null,
   "metadata": {},
   "outputs": [],
   "source": [
    "# Load initial data (v1)\n",
    "playlists_v1_path = '/shared/sampled/playlists_v1.json'\n",
    "tracks_v1_path = '/shared/sampled/tracks_v1.json'\n",
    "\n",
    "playlists_v1_df = spark.read.json(playlists_v1_path)\n",
    "tracks_v1_df = spark.read.json(tracks_v1_path)\n",
    "\n",
    "# Save initial data in Delta format\n",
    "\n",
    "playlists_v1_df.write.format(\"delta\").mode(\"overwrite\").save(\"/delta/bronze/playlists_v1\")\n",
    "tracks_v1_df.write.format(\"delta\").mode(\"overwrite\").save(\"/delta/bronze/tracks_v1\")"
   ]
  },
  {
   "cell_type": "code",
   "execution_count": null,
   "metadata": {},
   "outputs": [],
   "source": [
    "playlists_v2_path = '/shared/sampled/playlists_v2.json'\n",
    "tracks_v2_path = '/shared/sampled/tracks_v2.json'\n",
    "\n",
    "playlists_v2_df = spark.read.json(playlists_v2_path)\n",
    "tracks_v2_df = spark.read.json(tracks_v2_path)\n",
    "\n",
    "# Merge playlists_v2 into playlists_v1\n",
    "from delta.tables import DeltaTable\n",
    "\n",
    "playlists_delta_table = DeltaTable.forPath(spark, \"/delta/bronze/playlists_v1\")\n",
    "playlists_delta_table.alias(\"old\").merge(\n",
    "    playlists_v2_df.alias(\"new\"),\n",
    "    \"old.pid = new.pid\"\n",
    ").whenMatchedUpdateAll().whenNotMatchedInsertAll().execute()\n",
    "\n",
    "# Merge tracks_v2 into tracks_v1\n",
    "tracks_delta_table = DeltaTable.forPath(spark, \"/delta/bronze/tracks_v1\")\n",
    "tracks_delta_table.alias(\"old\").merge(\n",
    "    tracks_v2_df.alias(\"new\"),\n",
    "    \"old.pid = new.pid AND old.pos = new.pos\"\n",
    ").whenMatchedUpdateAll().whenNotMatchedInsertAll().execute()"
   ]
  },
  {
   "cell_type": "code",
   "execution_count": null,
   "metadata": {},
   "outputs": [],
   "source": [
    "# Update playlist 11992\n",
    "playlists_delta_table.update(\n",
    "    condition = \"pid = 11992\",\n",
    "    set = {\n",
    "        \"name\": lit(\"GYM WORKOUT\"),\n",
    "        \"collaborative\": lit(True)\n",
    "    }\n",
    ")"
   ]
  },
  {
   "cell_type": "code",
   "execution_count": null,
   "metadata": {},
   "outputs": [],
   "source": [
    "# Load v3 data\n",
    "playlists_v3_path = '/shared/sampled/playlists_v3.json'\n",
    "tracks_v3_path = '/shared/sampled/tracks_v3.json'\n",
    "\n",
    "playlists_v3_df = spark.read.json(playlists_v3_path)\n",
    "tracks_v3_df = spark.read.json(tracks_v3_path)\n",
    "\n",
    "# Merge playlists_v3 into playlists_v1\n",
    "playlists_delta_table.alias(\"old\").merge(\n",
    "    playlists_v3_df.alias(\"new\"),\n",
    "    \"old.pid = new.pid\"\n",
    ").whenMatchedUpdateAll().whenNotMatchedInsertAll().execute()\n",
    "\n",
    "# Merge tracks_v3 into tracks_v1\n",
    "tracks_delta_table.alias(\"old\").merge(\n",
    "    tracks_v3_df.alias(\"new\"),\n",
    "    \"old.pid = new.pid AND old.pos = new.pos\"\n",
    ").whenMatchedUpdateAll().whenNotMatchedInsertAll().execute()"
   ]
  },
  {
   "cell_type": "code",
   "execution_count": null,
   "metadata": {},
   "outputs": [],
   "source": [
    "# Save updated data in Delta format\n",
    "playlists_delta_table.toDF().write.format(\"delta\").mode(\"overwrite\").save(\"/delta/silver/playlists\")\n",
    "tracks_delta_table.toDF().write.format(\"delta\").mode(\"overwrite\").save(\"/delta/silver/tracks\")"
   ]
  },
  {
   "cell_type": "code",
   "execution_count": null,
   "metadata": {},
   "outputs": [],
   "source": [
    "import os\n",
    "\n",
    "# Measure total time for Delta-based implementation\n",
    "start_time = time.time()\n",
    "\n",
    "# (Re-run the above steps here)\n",
    "\n",
    "end_time = time.time()\n",
    "delta_total_time = end_time - start_time\n",
    "\n",
    "# Measure storage usage\n",
    "parquet_storage = sum(os.path.getsize(f) for f in os.scandir('/path/to/parquet') if f.is_file())\n",
    "delta_storage = sum(os.path.getsize(f) for f in os.scandir('/path/to/delta') if f.is_file())\n",
    "\n",
    "print(f\"Parquet-based implementation time: {parquet_total_time} seconds\")\n",
    "print(f\"Delta-based implementation time: {delta_total_time} seconds\")\n",
    "print(f\"Parquet storage usage: {parquet_storage} bytes\")\n",
    "print(f\"Delta storage usage: {delta_storage} bytes\")"
   ]
  },
  {
   "cell_type": "markdown",
   "metadata": {},
   "source": [
    "A principal diferença entre as implementações das Tarefas 2 e 3 está no formato de dados utilizado. A Tarefa 2 armazena os dados no formato Parquet, enquanto a Tarefa 3 utiliza Delta Lake, que é baseado no Parquet, mas adiciona funcionalidades avançadas. Na Tarefa 2, as operações de mesclagem e atualização exigem lógica mais complexa e menos eficiente, enquanto na Tarefa 3, o Delta Lake oferece suporte nativo para transações ACID, operações de merge e update, simplificando a implementação e melhorando o desempenho.  \n",
    "\n",
    "Outra diferença relevante está na evolução de esquema e no controle de concorrência. A Tarefa 2 exige um gerenciamento manual dessas questões, enquanto o Delta Lake, na Tarefa 3, lida automaticamente com a evolução do schema e garante a consistência dos dados. Além disso, a Tarefa 2 não possui suporte nativo para operações simultâneas de read e write, enquanto o Delta Lake permite essas operações mantendo a integridade dos dados. Um diferencial importante do Delta Lake é o suporte a \"time travel\", que possibilita consultar versões anteriores dos dados, recurso ausente na implementação baseada em Parquet da Tarefa 2.  \n",
    "\n",
    "Em relação ao desempenho e uso de armazenamento, o Delta Lake tende a ser mais eficiente devido às suas operações otimizadas de mesclagem e atualização, além do suporte a transações ACID. Já o Parquet pode demandar mais tempo, pois exige tratamento manual dessas operações. No armazenamento, o Delta Lake pode ocupar um pouco mais de espaço devido aos metadados adicionais para suporte a transações e versionamento, enquanto o Parquet consome menos espaço por não manter essas informações extras. No geral, o Delta Lake se destaca como uma opção mais robusta para pipelines de dados, garantindo melhor desempenho, consistência e facilidade de manutenção."
   ]
  },
  {
   "cell_type": "markdown",
   "metadata": {},
   "source": []
  }
 ],
 "metadata": {
  "kernelspec": {
   "display_name": ".venv",
   "language": "python",
   "name": "python3"
  },
  "language_info": {
   "name": "python",
   "version": "3.11.6"
  }
 },
 "nbformat": 4,
 "nbformat_minor": 2
}
