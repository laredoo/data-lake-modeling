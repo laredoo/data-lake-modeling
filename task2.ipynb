{
 "cells": [
  {
   "cell_type": "code",
   "execution_count": 1,
   "metadata": {},
   "outputs": [
    {
     "name": "stderr",
     "output_type": "stream",
     "text": [
      "25/02/07 19:50:04 WARN Utils: Your hostname, cloud1 resolves to a loopback address: 127.0.1.1; using 192.168.121.115 instead (on interface eth0)\n",
      "25/02/07 19:50:04 WARN Utils: Set SPARK_LOCAL_IP if you need to bind to another address\n"
     ]
    },
    {
     "name": "stdout",
     "output_type": "stream",
     "text": [
      ":: loading settings :: url = jar:file:/usr/local/sdkman/candidates/spark/3.5.1/jars/ivy-2.5.1.jar!/org/apache/ivy/core/settings/ivysettings.xml\n"
     ]
    },
    {
     "name": "stderr",
     "output_type": "stream",
     "text": [
      "Ivy Default Cache set to: /home/lucaslaredo/.ivy2/cache\n",
      "The jars for the packages stored in: /home/lucaslaredo/.ivy2/jars\n",
      "io.delta#delta-core_2.12 added as a dependency\n",
      ":: resolving dependencies :: org.apache.spark#spark-submit-parent-36d6557f-8309-4691-9942-e23dec1d195d;1.0\n",
      "\tconfs: [default]\n",
      "\tfound io.delta#delta-core_2.12;2.4.0 in central\n",
      "\tfound io.delta#delta-storage;2.4.0 in central\n",
      "\tfound org.antlr#antlr4-runtime;4.9.3 in central\n",
      ":: resolution report :: resolve 124ms :: artifacts dl 4ms\n",
      "\t:: modules in use:\n",
      "\tio.delta#delta-core_2.12;2.4.0 from central in [default]\n",
      "\tio.delta#delta-storage;2.4.0 from central in [default]\n",
      "\torg.antlr#antlr4-runtime;4.9.3 from central in [default]\n",
      "\t---------------------------------------------------------------------\n",
      "\t|                  |            modules            ||   artifacts   |\n",
      "\t|       conf       | number| search|dwnlded|evicted|| number|dwnlded|\n",
      "\t---------------------------------------------------------------------\n",
      "\t|      default     |   3   |   0   |   0   |   0   ||   3   |   0   |\n",
      "\t---------------------------------------------------------------------\n",
      ":: retrieving :: org.apache.spark#spark-submit-parent-36d6557f-8309-4691-9942-e23dec1d195d\n",
      "\tconfs: [default]\n",
      "\t0 artifacts copied, 3 already retrieved (0kB/4ms)\n",
      "25/02/07 19:50:05 WARN NativeCodeLoader: Unable to load native-hadoop library for your platform... using builtin-java classes where applicable\n",
      "Setting default log level to \"WARN\".\n",
      "To adjust logging level use sc.setLogLevel(newLevel). For SparkR, use setLogLevel(newLevel).\n",
      "25/02/07 19:50:06 WARN Utils: Service 'SparkUI' could not bind on port 4040. Attempting port 4041.\n"
     ]
    }
   ],
   "source": [
    "import pyspark\n",
    "from pyspark.sql import SparkSession\n",
    "from pyspark.sql.functions import col, lit, sum as spark_sum, countDistinct\n",
    "import time\n",
    "\n",
    "# Initialize Spark session\n",
    "spark = SparkSession.builder \\\n",
    "    .appName(\"spotify-datalake\") \\\n",
    "    .config(\"spark.jars.packages\", \"io.delta:delta-core_2.12:2.4.0\") \\\n",
    "    .config(\"spark.sql.extensions\", \"io.delta.sql.DeltaSparkSessionExtension\") \\\n",
    "    .config(\"spark.sql.catalog.spark_catalog\", \"org.apache.spark.sql.delta.catalog.DeltaCatalog\") \\\n",
    "    .config(\"spark.executor.instances\", \"2\") \\\n",
    "    .config(\"spark.executor.cores\", \"2\") \\\n",
    "    .config(\"spark.executor.memory\", \"1024M\") \\\n",
    "    .getOrCreate()\n",
    "\n",
    "spark.sparkContext.setLogLevel(\"WARN\")\n"
   ]
  },
  {
   "cell_type": "code",
   "execution_count": 2,
   "metadata": {},
   "outputs": [],
   "source": [
    "playlists_v1_path = '/shared/sampled/playlists_v1.json'\n",
    "playlists_v2_path = '/shared/sampled/playlists_v2.json'\n",
    "playlists_v3_path = '/shared/sampled/playlists_v3.json'\n",
    "tracks_v1_path = '/shared/sampled/tracks_v1.json'\n",
    "tracks_v2_path = '/shared/sampled/tracks_v2.json'\n",
    "tracks_v3_path = '/shared/sampled/tracks_v3.json'"
   ]
  },
  {
   "cell_type": "code",
   "execution_count": 3,
   "metadata": {},
   "outputs": [
    {
     "name": "stderr",
     "output_type": "stream",
     "text": [
      "                                                                                \r"
     ]
    }
   ],
   "source": [
    "# considering v2 as bronze layer to avoid disk usage\n",
    "playlists_v2_df = spark.read.json(playlists_v2_path)\n",
    "tracks_v2_df = spark.read.json(tracks_v2_path)"
   ]
  },
  {
   "cell_type": "markdown",
   "metadata": {},
   "source": [
    "# Silver Layer"
   ]
  },
  {
   "cell_type": "code",
   "execution_count": 4,
   "metadata": {},
   "outputs": [],
   "source": [
    "silver_playlists = spark.read.parquet(\"./silver/parquet/playlists/\")\n",
    "silver_tracks = spark.read.parquet(\"./silver/parquet/playlist_tracks\")\n",
    "silver_songs = spark.read.parquet(\"./silver/parquet/songs/\")\n",
    "silver_artists = spark.read.parquet(\"./silver/parquet/artists_information/\")\n",
    "silver_album = spark.read.parquet(\"./silver/parquet/album_information/\")"
   ]
  },
  {
   "cell_type": "code",
   "execution_count": 5,
   "metadata": {},
   "outputs": [],
   "source": [
    "from pyspark.sql.functions import col, coalesce\n",
    "\n",
    "updated_tracks = silver_tracks.alias(\"old\").join(\n",
    "    tracks_v2_df.alias(\"new\"),\n",
    "    (col(\"old.pid\") == col(\"new.pid\")) & (col(\"old.pos\") == col(\"new.pos\")),\n",
    "    \"outer\"\n",
    ").select(\n",
    "    coalesce(col(\"new.pid\"), col(\"old.pid\")).alias(\"pid\"),\n",
    "    coalesce(col(\"new.pos\"), col(\"old.pos\")).alias(\"pos\"),\n",
    "    coalesce(col(\"new.track_uri\"), col(\"old.track_uri\")).alias(\"track_uri\"),\n",
    "    coalesce(col(\"new.album_uri\"), col(\"old.album_uri\")).alias(\"album_uri\"),\n",
    "    coalesce(col(\"new.artist_uri\"), col(\"old.artist_uri\")).alias(\"artist_uri\")\n",
    ")"
   ]
  },
  {
   "cell_type": "code",
   "execution_count": 6,
   "metadata": {},
   "outputs": [],
   "source": [
    "updated_playlists = silver_playlists.alias(\"old\").join(\n",
    "    playlists_v2_df.alias(\"new\"),\n",
    "    silver_playlists.pid == playlists_v2_df.pid,\n",
    "    \"outer\"\n",
    ").select(\n",
    "    coalesce(col(\"new.pid\"), col(\"old.pid\")).alias(\"pid\"),\n",
    "    coalesce(col(\"new.name\"), col(\"old.name\")).alias(\"name\"), \n",
    "    coalesce(col(\"new.description\"), col(\"old.description\")).alias(\"description\"),\n",
    "    coalesce(col(\"new.collaborative\"), col(\"old.collaborative\")).alias(\"collaborative\")\n",
    ")"
   ]
  },
  {
   "cell_type": "code",
   "execution_count": 7,
   "metadata": {},
   "outputs": [
    {
     "name": "stderr",
     "output_type": "stream",
     "text": [
      "25/02/07 19:50:19 WARN MemoryManager: Total allocation exceeds 95.00% (1,020,054,720 bytes) of heap memory\n",
      "Scaling row group sizes to 95.00% for 8 writers\n",
      "                                                                                \r"
     ]
    }
   ],
   "source": [
    "updated_tracks.write.mode(\"overwrite\").parquet(\"./silver/parquet/playlist_tracks/\")\n",
    "updated_playlists.write.mode(\"overwrite\").parquet(\"./silver/parquet/playlists/\")"
   ]
  },
  {
   "cell_type": "markdown",
   "metadata": {},
   "source": [
    "# Gold Layer"
   ]
  },
  {
   "cell_type": "code",
   "execution_count": 8,
   "metadata": {},
   "outputs": [],
   "source": [
    "updated_tracks = spark.read.parquet(\"./silver/parquet/playlist_tracks/\")\n",
    "updated_playlists = spark.read.parquet(\"./silver/parquet/playlists/\")\n",
    "silver_songs = spark.read.parquet(\"./silver/parquet/songs/\")\n",
    "silver_artists = spark.read.parquet(\"./silver/parquet/artists_information/\")\n",
    "silver_album = spark.read.parquet(\"./silver/parquet/album_information/\")"
   ]
  },
  {
   "cell_type": "code",
   "execution_count": 9,
   "metadata": {},
   "outputs": [],
   "source": [
    "gold_playlist_info = updated_tracks.alias(\"spt\").join(\n",
    "    silver_songs.alias(\"ss\"), col(\"spt.track_uri\") == col(\"ss.track_uri\"), \"inner\"\n",
    ").select(\n",
    "    col(\"ss.duration_ms\"),\n",
    "    col(\"ss.artist_uri\").alias(\"song_artist_uri\"),\n",
    "    col(\"ss.album_uri\"),\n",
    "    col(\"ss.track_uri\"),\n",
    "    col(\"spt.pid\").alias(\"playlist_id\")\n",
    ").groupBy(\"playlist_id\").agg(\n",
    "    col(\"playlist_id\").alias(\"pid\"),\n",
    "    spark_sum(\"duration_ms\").alias(\"total_duration_ms\"),\n",
    "    countDistinct(\"track_uri\").alias(\"num_tracks\"),\n",
    "    countDistinct(\"song_artist_uri\").alias(\"num_artists\"),\n",
    "    countDistinct(\"album_uri\").alias(\"num_albums\")\n",
    ").join(updated_playlists, \"pid\", \"inner\").select(\n",
    "    col(\"pid\").alias(\"playlist_id\"),\n",
    "    \"total_duration_ms\",\n",
    "    \"num_tracks\",\n",
    "    \"num_artists\",\n",
    "    \"num_albums\",\n",
    "    \"name\",\n",
    "    \"description\"\n",
    ")"
   ]
  },
  {
   "cell_type": "code",
   "execution_count": 10,
   "metadata": {},
   "outputs": [],
   "source": [
    "gold_playlist_tracks = updated_tracks.alias(\"spt\").join(\n",
    "    silver_songs.alias(\"ss\"), col(\"spt.track_uri\") == col(\"ss.track_uri\"), \"inner\"\n",
    ").select(\n",
    "    col(\"ss.artist_uri\"),\n",
    "    col(\"ss.album_uri\"),\n",
    "    col(\"ss.track_name\"),\n",
    "    col(\"spt.pos\"),\n",
    "    col(\"spt.pid\").alias(\"playlist_id\")\n",
    ").join(\n",
    "    silver_artists, \"artist_uri\", \"inner\"\n",
    ").select(\n",
    "    \"playlist_id\",\n",
    "    \"pos\",\n",
    "    \"track_name\",\n",
    "    \"album_uri\",\n",
    "    \"artist_name\"\n",
    ").join(\n",
    "    silver_album, \"album_uri\", \"inner\"\n",
    ").select(\n",
    "    \"playlist_id\",\n",
    "    \"pos\",\n",
    "    \"track_name\",\n",
    "    \"artist_name\",\n",
    "    \"album_name\"\n",
    ")"
   ]
  },
  {
   "cell_type": "code",
   "execution_count": 11,
   "metadata": {},
   "outputs": [
    {
     "name": "stderr",
     "output_type": "stream",
     "text": [
      "25/02/07 19:50:25 WARN RowBasedKeyValueBatch: Calling spill() on RowBasedKeyValueBatch. Will not spill but return 0.\n",
      "25/02/07 19:50:25 WARN RowBasedKeyValueBatch: Calling spill() on RowBasedKeyValueBatch. Will not spill but return 0.\n",
      "25/02/07 19:50:25 WARN RowBasedKeyValueBatch: Calling spill() on RowBasedKeyValueBatch. Will not spill but return 0.\n",
      "25/02/07 19:50:25 WARN RowBasedKeyValueBatch: Calling spill() on RowBasedKeyValueBatch. Will not spill but return 0.\n",
      "25/02/07 19:50:25 WARN RowBasedKeyValueBatch: Calling spill() on RowBasedKeyValueBatch. Will not spill but return 0.\n",
      "25/02/07 19:50:25 WARN RowBasedKeyValueBatch: Calling spill() on RowBasedKeyValueBatch. Will not spill but return 0.\n",
      "25/02/07 19:50:25 WARN RowBasedKeyValueBatch: Calling spill() on RowBasedKeyValueBatch. Will not spill but return 0.\n",
      "25/02/07 19:50:25 WARN RowBasedKeyValueBatch: Calling spill() on RowBasedKeyValueBatch. Will not spill but return 0.\n",
      "25/02/07 19:50:25 WARN RowBasedKeyValueBatch: Calling spill() on RowBasedKeyValueBatch. Will not spill but return 0.\n",
      "25/02/07 19:50:25 WARN RowBasedKeyValueBatch: Calling spill() on RowBasedKeyValueBatch. Will not spill but return 0.\n",
      "25/02/07 19:50:25 WARN RowBasedKeyValueBatch: Calling spill() on RowBasedKeyValueBatch. Will not spill but return 0.\n",
      "25/02/07 19:50:25 WARN RowBasedKeyValueBatch: Calling spill() on RowBasedKeyValueBatch. Will not spill but return 0.\n",
      "25/02/07 19:50:25 WARN RowBasedKeyValueBatch: Calling spill() on RowBasedKeyValueBatch. Will not spill but return 0.\n",
      "25/02/07 19:50:25 WARN RowBasedKeyValueBatch: Calling spill() on RowBasedKeyValueBatch. Will not spill but return 0.\n",
      "25/02/07 19:50:25 WARN RowBasedKeyValueBatch: Calling spill() on RowBasedKeyValueBatch. Will not spill but return 0.\n",
      "25/02/07 19:50:25 WARN RowBasedKeyValueBatch: Calling spill() on RowBasedKeyValueBatch. Will not spill but return 0.\n",
      "25/02/07 19:50:25 WARN RowBasedKeyValueBatch: Calling spill() on RowBasedKeyValueBatch. Will not spill but return 0.\n",
      "25/02/07 19:50:25 WARN RowBasedKeyValueBatch: Calling spill() on RowBasedKeyValueBatch. Will not spill but return 0.\n",
      "25/02/07 19:50:25 WARN RowBasedKeyValueBatch: Calling spill() on RowBasedKeyValueBatch. Will not spill but return 0.\n",
      "25/02/07 19:50:25 WARN RowBasedKeyValueBatch: Calling spill() on RowBasedKeyValueBatch. Will not spill but return 0.\n",
      "25/02/07 19:50:25 WARN RowBasedKeyValueBatch: Calling spill() on RowBasedKeyValueBatch. Will not spill but return 0.\n",
      "25/02/07 19:50:25 WARN RowBasedKeyValueBatch: Calling spill() on RowBasedKeyValueBatch. Will not spill but return 0.\n",
      "25/02/07 19:50:25 WARN RowBasedKeyValueBatch: Calling spill() on RowBasedKeyValueBatch. Will not spill but return 0.\n",
      "25/02/07 19:50:26 WARN RowBasedKeyValueBatch: Calling spill() on RowBasedKeyValueBatch. Will not spill but return 0.\n",
      "25/02/07 19:50:26 WARN RowBasedKeyValueBatch: Calling spill() on RowBasedKeyValueBatch. Will not spill but return 0.\n",
      "25/02/07 19:50:26 WARN RowBasedKeyValueBatch: Calling spill() on RowBasedKeyValueBatch. Will not spill but return 0.\n",
      "25/02/07 19:50:26 WARN RowBasedKeyValueBatch: Calling spill() on RowBasedKeyValueBatch. Will not spill but return 0.\n",
      "25/02/07 19:50:26 WARN RowBasedKeyValueBatch: Calling spill() on RowBasedKeyValueBatch. Will not spill but return 0.\n",
      "25/02/07 19:50:26 WARN RowBasedKeyValueBatch: Calling spill() on RowBasedKeyValueBatch. Will not spill but return 0.\n",
      "25/02/07 19:50:26 WARN RowBasedKeyValueBatch: Calling spill() on RowBasedKeyValueBatch. Will not spill but return 0.\n",
      "25/02/07 19:50:26 WARN RowBasedKeyValueBatch: Calling spill() on RowBasedKeyValueBatch. Will not spill but return 0.\n",
      "25/02/07 19:50:28 WARN RowBasedKeyValueBatch: Calling spill() on RowBasedKeyValueBatch. Will not spill but return 0.\n",
      "25/02/07 19:50:28 WARN RowBasedKeyValueBatch: Calling spill() on RowBasedKeyValueBatch. Will not spill but return 0.\n",
      "25/02/07 19:50:28 WARN RowBasedKeyValueBatch: Calling spill() on RowBasedKeyValueBatch. Will not spill but return 0.\n",
      "25/02/07 19:50:28 WARN RowBasedKeyValueBatch: Calling spill() on RowBasedKeyValueBatch. Will not spill but return 0.\n",
      "25/02/07 19:50:28 WARN RowBasedKeyValueBatch: Calling spill() on RowBasedKeyValueBatch. Will not spill but return 0.\n",
      "25/02/07 19:50:28 WARN RowBasedKeyValueBatch: Calling spill() on RowBasedKeyValueBatch. Will not spill but return 0.\n",
      "25/02/07 19:50:28 WARN RowBasedKeyValueBatch: Calling spill() on RowBasedKeyValueBatch. Will not spill but return 0.\n",
      "25/02/07 19:50:28 WARN RowBasedKeyValueBatch: Calling spill() on RowBasedKeyValueBatch. Will not spill but return 0.\n",
      "25/02/07 19:50:32 WARN MemoryManager: Total allocation exceeds 95.00% (1,020,054,720 bytes) of heap memory\n",
      "Scaling row group sizes to 95.00% for 8 writers\n",
      "25/02/07 19:50:33 WARN MemoryManager: Total allocation exceeds 95.00% (1,020,054,720 bytes) of heap memory\n",
      "Scaling row group sizes to 95.00% for 8 writers\n",
      "                                                                                \r"
     ]
    }
   ],
   "source": [
    "gold_playlist_info.write.mode(\"overwrite\").parquet(\"./gold/parquet/playlists/\")\n",
    "gold_playlist_tracks.write.mode(\"overwrite\").parquet(\"./gold/parquet/playlist_tracks/\")"
   ]
  },
  {
   "cell_type": "markdown",
   "metadata": {},
   "source": [
    "# Update playlist 11992"
   ]
  },
  {
   "cell_type": "code",
   "execution_count": 34,
   "metadata": {},
   "outputs": [],
   "source": [
    "silver_playlists = spark.read.parquet(\"./silver/parquet/playlists/\")\n",
    "updated_tracks = spark.read.parquet(\"./silver/parquet/playlist_tracks/\")\n",
    "updated_playlists = spark.read.parquet(\"./silver/parquet/playlists/\")\n",
    "silver_songs = spark.read.parquet(\"./silver/parquet/songs/\")"
   ]
  },
  {
   "cell_type": "code",
   "execution_count": 35,
   "metadata": {},
   "outputs": [],
   "source": [
    "# fix incorrect data entry for playlist 11992\n",
    "from pyspark.sql.functions import col\n",
    "\n",
    "updated_playlists = silver_playlists.alias(\"old\").join(\n",
    "    playlists_v2_df.alias(\"new\"),\n",
    "    col(\"old.pid\") == col(\"new.pid\"),\n",
    "    \"outer\"\n",
    ").select(\n",
    "    coalesce(col(\"new.pid\"), col(\"old.pid\")).alias(\"pid\"),\n",
    "    coalesce(col(\"new.name\"), col(\"old.name\")).alias(\"name\"), \n",
    "    coalesce(col(\"new.description\"), col(\"old.description\")).alias(\"description\"),\n",
    "    coalesce(col(\"new.collaborative\"), col(\"old.collaborative\")).alias(\"collaborative\")\n",
    ")"
   ]
  },
  {
   "cell_type": "code",
   "execution_count": null,
   "metadata": {},
   "outputs": [
    {
     "name": "stderr",
     "output_type": "stream",
     "text": [
      "                                                                                \r"
     ]
    }
   ],
   "source": [
    "updated_playlists.write.mode(\"overwrite\").parquet(\"./silver/parquet/playlists/\")"
   ]
  },
  {
   "cell_type": "code",
   "execution_count": 41,
   "metadata": {},
   "outputs": [],
   "source": [
    "updated_playlists = spark.read.parquet(\"./silver/parquet/playlists/\")"
   ]
  },
  {
   "cell_type": "code",
   "execution_count": 42,
   "metadata": {},
   "outputs": [],
   "source": [
    "gold_playlist_info = updated_tracks.alias(\"spt\").join(\n",
    "    silver_songs.alias(\"ss\"), col(\"spt.track_uri\") == col(\"ss.track_uri\"), \"inner\"\n",
    ").select(\n",
    "    col(\"ss.duration_ms\"),\n",
    "    col(\"ss.artist_uri\").alias(\"song_artist_uri\"),\n",
    "    col(\"ss.album_uri\"),\n",
    "    col(\"ss.track_uri\"),\n",
    "    col(\"spt.pid\").alias(\"playlist_id\")\n",
    ").groupBy(\"playlist_id\").agg(\n",
    "    col(\"playlist_id\").alias(\"pid\"),\n",
    "    spark_sum(\"duration_ms\").alias(\"total_duration_ms\"),\n",
    "    countDistinct(\"track_uri\").alias(\"num_tracks\"),\n",
    "    countDistinct(\"song_artist_uri\").alias(\"num_artists\"),\n",
    "    countDistinct(\"album_uri\").alias(\"num_albums\")\n",
    ").join(updated_playlists, \"pid\", \"inner\").select(\n",
    "    col(\"pid\").alias(\"playlist_id\"),\n",
    "    \"total_duration_ms\",\n",
    "    \"num_tracks\",\n",
    "    \"num_artists\",\n",
    "    \"num_albums\",\n",
    "    \"name\",\n",
    "    \"description\"\n",
    ")"
   ]
  },
  {
   "cell_type": "code",
   "execution_count": 43,
   "metadata": {},
   "outputs": [],
   "source": [
    "gold_playlist_tracks = updated_tracks.alias(\"spt\").join(\n",
    "    silver_songs.alias(\"ss\"), col(\"spt.track_uri\") == col(\"ss.track_uri\"), \"inner\"\n",
    ").select(\n",
    "    col(\"ss.artist_uri\"),\n",
    "    col(\"ss.album_uri\"),\n",
    "    col(\"ss.track_name\"),\n",
    "    col(\"spt.pos\"),\n",
    "    col(\"spt.pid\").alias(\"playlist_id\")\n",
    ").join(\n",
    "    silver_artists, \"artist_uri\", \"inner\"\n",
    ").select(\n",
    "    \"playlist_id\",\n",
    "    \"pos\",\n",
    "    \"track_name\",\n",
    "    \"album_uri\",\n",
    "    \"artist_name\"\n",
    ").join(\n",
    "    silver_album, \"album_uri\", \"inner\"\n",
    ").select(\n",
    "    \"playlist_id\",\n",
    "    \"pos\",\n",
    "    \"track_name\",\n",
    "    \"artist_name\",\n",
    "    \"album_name\"\n",
    ")\n"
   ]
  },
  {
   "cell_type": "code",
   "execution_count": 44,
   "metadata": {},
   "outputs": [
    {
     "name": "stderr",
     "output_type": "stream",
     "text": [
      "25/02/07 19:54:55 WARN RowBasedKeyValueBatch: Calling spill() on RowBasedKeyValueBatch. Will not spill but return 0.\n",
      "25/02/07 19:54:55 WARN RowBasedKeyValueBatch: Calling spill() on RowBasedKeyValueBatch. Will not spill but return 0.\n",
      "25/02/07 19:54:55 WARN RowBasedKeyValueBatch: Calling spill() on RowBasedKeyValueBatch. Will not spill but return 0.\n",
      "25/02/07 19:54:55 WARN RowBasedKeyValueBatch: Calling spill() on RowBasedKeyValueBatch. Will not spill but return 0.\n",
      "25/02/07 19:54:55 WARN RowBasedKeyValueBatch: Calling spill() on RowBasedKeyValueBatch. Will not spill but return 0.\n",
      "25/02/07 19:54:55 WARN RowBasedKeyValueBatch: Calling spill() on RowBasedKeyValueBatch. Will not spill but return 0.\n",
      "25/02/07 19:54:55 WARN RowBasedKeyValueBatch: Calling spill() on RowBasedKeyValueBatch. Will not spill but return 0.\n",
      "25/02/07 19:54:56 WARN RowBasedKeyValueBatch: Calling spill() on RowBasedKeyValueBatch. Will not spill but return 0.\n",
      "25/02/07 19:54:56 WARN RowBasedKeyValueBatch: Calling spill() on RowBasedKeyValueBatch. Will not spill but return 0.\n",
      "25/02/07 19:54:56 WARN RowBasedKeyValueBatch: Calling spill() on RowBasedKeyValueBatch. Will not spill but return 0.\n",
      "25/02/07 19:54:56 WARN RowBasedKeyValueBatch: Calling spill() on RowBasedKeyValueBatch. Will not spill but return 0.\n",
      "25/02/07 19:54:56 WARN RowBasedKeyValueBatch: Calling spill() on RowBasedKeyValueBatch. Will not spill but return 0.\n",
      "25/02/07 19:54:56 WARN RowBasedKeyValueBatch: Calling spill() on RowBasedKeyValueBatch. Will not spill but return 0.\n",
      "25/02/07 19:54:56 WARN RowBasedKeyValueBatch: Calling spill() on RowBasedKeyValueBatch. Will not spill but return 0.\n",
      "25/02/07 19:54:56 WARN RowBasedKeyValueBatch: Calling spill() on RowBasedKeyValueBatch. Will not spill but return 0.\n",
      "25/02/07 19:54:56 WARN RowBasedKeyValueBatch: Calling spill() on RowBasedKeyValueBatch. Will not spill but return 0.\n",
      "25/02/07 19:54:56 WARN RowBasedKeyValueBatch: Calling spill() on RowBasedKeyValueBatch. Will not spill but return 0.\n",
      "25/02/07 19:54:56 WARN RowBasedKeyValueBatch: Calling spill() on RowBasedKeyValueBatch. Will not spill but return 0.\n",
      "25/02/07 19:54:56 WARN RowBasedKeyValueBatch: Calling spill() on RowBasedKeyValueBatch. Will not spill but return 0.\n",
      "25/02/07 19:54:56 WARN RowBasedKeyValueBatch: Calling spill() on RowBasedKeyValueBatch. Will not spill but return 0.\n",
      "25/02/07 19:54:56 WARN RowBasedKeyValueBatch: Calling spill() on RowBasedKeyValueBatch. Will not spill but return 0.\n",
      "25/02/07 19:54:56 WARN RowBasedKeyValueBatch: Calling spill() on RowBasedKeyValueBatch. Will not spill but return 0.\n",
      "25/02/07 19:54:56 WARN RowBasedKeyValueBatch: Calling spill() on RowBasedKeyValueBatch. Will not spill but return 0.\n",
      "25/02/07 19:54:56 WARN RowBasedKeyValueBatch: Calling spill() on RowBasedKeyValueBatch. Will not spill but return 0.\n",
      "25/02/07 19:54:56 WARN RowBasedKeyValueBatch: Calling spill() on RowBasedKeyValueBatch. Will not spill but return 0.\n",
      "25/02/07 19:54:56 WARN RowBasedKeyValueBatch: Calling spill() on RowBasedKeyValueBatch. Will not spill but return 0.\n",
      "25/02/07 19:54:56 WARN RowBasedKeyValueBatch: Calling spill() on RowBasedKeyValueBatch. Will not spill but return 0.\n",
      "25/02/07 19:54:56 WARN RowBasedKeyValueBatch: Calling spill() on RowBasedKeyValueBatch. Will not spill but return 0.\n",
      "25/02/07 19:54:56 WARN RowBasedKeyValueBatch: Calling spill() on RowBasedKeyValueBatch. Will not spill but return 0.\n",
      "25/02/07 19:54:56 WARN RowBasedKeyValueBatch: Calling spill() on RowBasedKeyValueBatch. Will not spill but return 0.\n",
      "25/02/07 19:54:56 WARN RowBasedKeyValueBatch: Calling spill() on RowBasedKeyValueBatch. Will not spill but return 0.\n",
      "25/02/07 19:54:58 WARN RowBasedKeyValueBatch: Calling spill() on RowBasedKeyValueBatch. Will not spill but return 0.\n",
      "25/02/07 19:54:58 WARN RowBasedKeyValueBatch: Calling spill() on RowBasedKeyValueBatch. Will not spill but return 0.\n",
      "25/02/07 19:54:58 WARN RowBasedKeyValueBatch: Calling spill() on RowBasedKeyValueBatch. Will not spill but return 0.\n",
      "25/02/07 19:54:58 WARN RowBasedKeyValueBatch: Calling spill() on RowBasedKeyValueBatch. Will not spill but return 0.\n",
      "25/02/07 19:54:58 WARN RowBasedKeyValueBatch: Calling spill() on RowBasedKeyValueBatch. Will not spill but return 0.\n",
      "25/02/07 19:54:58 WARN RowBasedKeyValueBatch: Calling spill() on RowBasedKeyValueBatch. Will not spill but return 0.\n",
      "25/02/07 19:54:58 WARN RowBasedKeyValueBatch: Calling spill() on RowBasedKeyValueBatch. Will not spill but return 0.\n",
      "25/02/07 19:54:58 WARN RowBasedKeyValueBatch: Calling spill() on RowBasedKeyValueBatch. Will not spill but return 0.\n",
      "25/02/07 19:54:59 WARN MemoryManager: Total allocation exceeds 95.00% (1,020,054,720 bytes) of heap memory\n",
      "Scaling row group sizes to 95.00% for 8 writers\n",
      "25/02/07 19:55:00 WARN MemoryManager: Total allocation exceeds 95.00% (1,020,054,720 bytes) of heap memory\n",
      "Scaling row group sizes to 95.00% for 8 writers\n",
      "                                                                                \r"
     ]
    }
   ],
   "source": [
    "gold_playlist_info.write.mode(\"overwrite\").parquet(\"./gold/parquet/playlists/\")\n",
    "gold_playlist_tracks.write.mode(\"overwrite\").parquet(\"./gold/parquet/playlist_tracks/\")"
   ]
  },
  {
   "cell_type": "markdown",
   "metadata": {},
   "source": [
    "# Ingest new dataset"
   ]
  },
  {
   "cell_type": "code",
   "execution_count": 45,
   "metadata": {},
   "outputs": [],
   "source": [
    "# Ingest third sample (v3) and repeat the process\n",
    "playlists_v3_df = spark.read.json(playlists_v3_path)\n",
    "tracks_v3_df = spark.read.json(tracks_v3_path)"
   ]
  },
  {
   "cell_type": "code",
   "execution_count": 46,
   "metadata": {},
   "outputs": [],
   "source": [
    "# ---> Considering bronze layer as v3 to avoid disk usage\n",
    "\n",
    "# playlists_v3_df.write.mode(\"overwrite\").json(\"/bronze/playlists_v3/\")\n",
    "# tracks_v3_df.write.mode(\"overwrite\").json(\"/bronze/tracks_v3/\")\n"
   ]
  },
  {
   "cell_type": "code",
   "execution_count": 53,
   "metadata": {},
   "outputs": [],
   "source": [
    "silver_playlists = spark.read.parquet(\"./silver/parquet/playlists/\")\n",
    "updated_tracks = spark.read.parquet(\"./silver/parquet/playlist_tracks/\")\n",
    "updated_playlists = spark.read.parquet(\"./silver/parquet/playlists/\")\n",
    "silver_songs = spark.read.parquet(\"./silver/parquet/songs/\")"
   ]
  },
  {
   "cell_type": "code",
   "execution_count": 54,
   "metadata": {},
   "outputs": [],
   "source": [
    "updated_tracks = updated_tracks.alias(\"old\").join(\n",
    "    tracks_v3_df.alias(\"new\"),\n",
    "    (col(\"old.pid\") == col(\"new.pid\")) & (col(\"old.pos\") == col(\"new.pos\")),\n",
    "    \"outer\"\n",
    ").select(\n",
    "    coalesce(col(\"new.pid\"), col(\"old.pid\")).alias(\"pid\"),\n",
    "    coalesce(col(\"new.pos\"), col(\"old.pos\")).alias(\"pos\"),\n",
    "    coalesce(col(\"new.track_uri\"), col(\"old.track_uri\")).alias(\"track_uri\"),\n",
    "    coalesce(col(\"new.album_uri\"), col(\"old.album_uri\")).alias(\"album_uri\"),\n",
    "    coalesce(col(\"new.artist_uri\"), col(\"old.artist_uri\")).alias(\"artist_uri\")\n",
    ")\n"
   ]
  },
  {
   "cell_type": "code",
   "execution_count": 55,
   "metadata": {},
   "outputs": [],
   "source": [
    "updated_playlists = updated_playlists.alias(\"old\").join(\n",
    "    playlists_v3_df.alias(\"new\"),\n",
    "    col(\"old.pid\") == col(\"new.pid\"),\n",
    "    \"outer\"\n",
    ").select(\n",
    "    coalesce(col(\"new.pid\"), col(\"old.pid\")).alias(\"pid\"),\n",
    "    coalesce(col(\"new.name\"), col(\"old.name\")).alias(\"name\"),\n",
    "    coalesce(col(\"new.description\"), col(\"old.description\")).alias(\"description\"),\n",
    "    coalesce(col(\"new.collaborative\"), col(\"old.collaborative\")).alias(\"collaborative\")\n",
    ")"
   ]
  },
  {
   "cell_type": "code",
   "execution_count": 57,
   "metadata": {},
   "outputs": [
    {
     "name": "stderr",
     "output_type": "stream",
     "text": [
      "25/02/07 20:03:30 WARN MemoryManager: Total allocation exceeds 95.00% (1,020,054,720 bytes) of heap memory\n",
      "Scaling row group sizes to 95.00% for 8 writers\n",
      "                                                                                \r"
     ]
    }
   ],
   "source": [
    "updated_tracks.write.mode(\"overwrite\").parquet(\"./silver/parquet/playlist_tracks/\")\n",
    "updated_playlists.write.mode(\"overwrite\").parquet(\"./silver/parquet/playlists/\")"
   ]
  },
  {
   "cell_type": "code",
   "execution_count": 61,
   "metadata": {},
   "outputs": [],
   "source": [
    "updated_tracks = spark.read.parquet(\"./silver/parquet/playlist_tracks/\")\n",
    "updated_playlists = spark.read.parquet(\"./silver/parquet/playlists/\")"
   ]
  },
  {
   "cell_type": "code",
   "execution_count": 62,
   "metadata": {},
   "outputs": [],
   "source": [
    "gold_playlist_info = updated_tracks.alias(\"spt\").join(\n",
    "    silver_songs.alias(\"ss\"), col(\"spt.track_uri\") == col(\"ss.track_uri\"), \"inner\"\n",
    ").select(\n",
    "    col(\"ss.duration_ms\"),\n",
    "    col(\"ss.artist_uri\").alias(\"song_artist_uri\"),\n",
    "    col(\"ss.album_uri\"),\n",
    "    col(\"ss.track_uri\"),\n",
    "    col(\"spt.pid\").alias(\"playlist_id\")\n",
    ").groupBy(\"playlist_id\").agg(\n",
    "    col(\"playlist_id\").alias(\"pid\"),\n",
    "    spark_sum(\"duration_ms\").alias(\"total_duration_ms\"),\n",
    "    countDistinct(\"track_uri\").alias(\"num_tracks\"),\n",
    "    countDistinct(\"song_artist_uri\").alias(\"num_artists\"),\n",
    "    countDistinct(\"album_uri\").alias(\"num_albums\")\n",
    ").join(updated_playlists, \"pid\", \"inner\").select(\n",
    "    col(\"pid\").alias(\"playlist_id\"),\n",
    "    \"total_duration_ms\",\n",
    "    \"num_tracks\",\n",
    "    \"num_artists\",\n",
    "    \"num_albums\",\n",
    "    \"name\",\n",
    "    \"description\"\n",
    ")"
   ]
  },
  {
   "cell_type": "code",
   "execution_count": 63,
   "metadata": {},
   "outputs": [],
   "source": [
    "gold_playlist_tracks = updated_tracks.alias(\"spt\").join(\n",
    "    silver_songs.alias(\"ss\"), col(\"spt.track_uri\") == col(\"ss.track_uri\"), \"inner\"\n",
    ").select(\n",
    "    col(\"ss.artist_uri\"),\n",
    "    col(\"ss.album_uri\"),\n",
    "    col(\"ss.track_name\"),\n",
    "    col(\"spt.pos\"),\n",
    "    col(\"spt.pid\").alias(\"playlist_id\")\n",
    ").join(\n",
    "    silver_artists, \"artist_uri\", \"inner\"\n",
    ").select(\n",
    "    \"playlist_id\",\n",
    "    \"pos\",\n",
    "    \"track_name\",\n",
    "    \"album_uri\",\n",
    "    \"artist_name\"\n",
    ").join(\n",
    "    silver_album, \"album_uri\", \"inner\"\n",
    ").select(\n",
    "    \"playlist_id\",\n",
    "    \"pos\",\n",
    "    \"track_name\",\n",
    "    \"artist_name\",\n",
    "    \"album_name\"\n",
    ")"
   ]
  },
  {
   "cell_type": "code",
   "execution_count": 64,
   "metadata": {},
   "outputs": [
    {
     "name": "stderr",
     "output_type": "stream",
     "text": [
      "25/02/07 20:03:58 WARN RowBasedKeyValueBatch: Calling spill() on RowBasedKeyValueBatch. Will not spill but return 0.\n",
      "25/02/07 20:03:58 WARN RowBasedKeyValueBatch: Calling spill() on RowBasedKeyValueBatch. Will not spill but return 0.\n",
      "25/02/07 20:03:58 WARN RowBasedKeyValueBatch: Calling spill() on RowBasedKeyValueBatch. Will not spill but return 0.\n",
      "25/02/07 20:03:58 WARN RowBasedKeyValueBatch: Calling spill() on RowBasedKeyValueBatch. Will not spill but return 0.\n",
      "25/02/07 20:03:58 WARN RowBasedKeyValueBatch: Calling spill() on RowBasedKeyValueBatch. Will not spill but return 0.\n",
      "25/02/07 20:03:58 WARN RowBasedKeyValueBatch: Calling spill() on RowBasedKeyValueBatch. Will not spill but return 0.\n",
      "25/02/07 20:03:58 WARN RowBasedKeyValueBatch: Calling spill() on RowBasedKeyValueBatch. Will not spill but return 0.\n",
      "25/02/07 20:03:58 WARN RowBasedKeyValueBatch: Calling spill() on RowBasedKeyValueBatch. Will not spill but return 0.\n",
      "25/02/07 20:03:58 WARN RowBasedKeyValueBatch: Calling spill() on RowBasedKeyValueBatch. Will not spill but return 0.\n",
      "25/02/07 20:03:58 WARN RowBasedKeyValueBatch: Calling spill() on RowBasedKeyValueBatch. Will not spill but return 0.\n",
      "25/02/07 20:03:58 WARN RowBasedKeyValueBatch: Calling spill() on RowBasedKeyValueBatch. Will not spill but return 0.\n",
      "25/02/07 20:03:58 WARN RowBasedKeyValueBatch: Calling spill() on RowBasedKeyValueBatch. Will not spill but return 0.\n",
      "25/02/07 20:03:58 WARN RowBasedKeyValueBatch: Calling spill() on RowBasedKeyValueBatch. Will not spill but return 0.\n",
      "25/02/07 20:03:58 WARN RowBasedKeyValueBatch: Calling spill() on RowBasedKeyValueBatch. Will not spill but return 0.\n",
      "25/02/07 20:03:58 WARN RowBasedKeyValueBatch: Calling spill() on RowBasedKeyValueBatch. Will not spill but return 0.\n",
      "25/02/07 20:03:58 WARN RowBasedKeyValueBatch: Calling spill() on RowBasedKeyValueBatch. Will not spill but return 0.\n",
      "25/02/07 20:03:59 WARN RowBasedKeyValueBatch: Calling spill() on RowBasedKeyValueBatch. Will not spill but return 0.\n",
      "25/02/07 20:03:59 WARN RowBasedKeyValueBatch: Calling spill() on RowBasedKeyValueBatch. Will not spill but return 0.\n",
      "25/02/07 20:03:59 WARN RowBasedKeyValueBatch: Calling spill() on RowBasedKeyValueBatch. Will not spill but return 0.\n",
      "25/02/07 20:03:59 WARN RowBasedKeyValueBatch: Calling spill() on RowBasedKeyValueBatch. Will not spill but return 0.\n",
      "25/02/07 20:03:59 WARN RowBasedKeyValueBatch: Calling spill() on RowBasedKeyValueBatch. Will not spill but return 0.\n",
      "25/02/07 20:03:59 WARN RowBasedKeyValueBatch: Calling spill() on RowBasedKeyValueBatch. Will not spill but return 0.\n",
      "25/02/07 20:03:59 WARN RowBasedKeyValueBatch: Calling spill() on RowBasedKeyValueBatch. Will not spill but return 0.\n",
      "25/02/07 20:03:59 WARN RowBasedKeyValueBatch: Calling spill() on RowBasedKeyValueBatch. Will not spill but return 0.\n",
      "25/02/07 20:04:01 WARN RowBasedKeyValueBatch: Calling spill() on RowBasedKeyValueBatch. Will not spill but return 0.\n",
      "25/02/07 20:04:01 WARN RowBasedKeyValueBatch: Calling spill() on RowBasedKeyValueBatch. Will not spill but return 0.\n",
      "25/02/07 20:04:01 WARN RowBasedKeyValueBatch: Calling spill() on RowBasedKeyValueBatch. Will not spill but return 0.\n",
      "25/02/07 20:04:01 WARN RowBasedKeyValueBatch: Calling spill() on RowBasedKeyValueBatch. Will not spill but return 0.\n",
      "25/02/07 20:04:01 WARN RowBasedKeyValueBatch: Calling spill() on RowBasedKeyValueBatch. Will not spill but return 0.\n",
      "25/02/07 20:04:01 WARN RowBasedKeyValueBatch: Calling spill() on RowBasedKeyValueBatch. Will not spill but return 0.\n",
      "25/02/07 20:04:01 WARN RowBasedKeyValueBatch: Calling spill() on RowBasedKeyValueBatch. Will not spill but return 0.\n",
      "25/02/07 20:04:01 WARN RowBasedKeyValueBatch: Calling spill() on RowBasedKeyValueBatch. Will not spill but return 0.\n",
      "25/02/07 20:04:02 WARN RowBasedKeyValueBatch: Calling spill() on RowBasedKeyValueBatch. Will not spill but return 0.\n",
      "25/02/07 20:04:02 WARN RowBasedKeyValueBatch: Calling spill() on RowBasedKeyValueBatch. Will not spill but return 0.\n",
      "25/02/07 20:04:02 WARN RowBasedKeyValueBatch: Calling spill() on RowBasedKeyValueBatch. Will not spill but return 0.\n",
      "25/02/07 20:04:02 WARN RowBasedKeyValueBatch: Calling spill() on RowBasedKeyValueBatch. Will not spill but return 0.\n",
      "25/02/07 20:04:02 WARN RowBasedKeyValueBatch: Calling spill() on RowBasedKeyValueBatch. Will not spill but return 0.\n",
      "25/02/07 20:04:02 WARN RowBasedKeyValueBatch: Calling spill() on RowBasedKeyValueBatch. Will not spill but return 0.\n",
      "25/02/07 20:04:02 WARN RowBasedKeyValueBatch: Calling spill() on RowBasedKeyValueBatch. Will not spill but return 0.\n",
      "25/02/07 20:04:02 WARN RowBasedKeyValueBatch: Calling spill() on RowBasedKeyValueBatch. Will not spill but return 0.\n",
      "25/02/07 20:04:03 WARN MemoryManager: Total allocation exceeds 95.00% (1,020,054,720 bytes) of heap memory\n",
      "Scaling row group sizes to 95.00% for 8 writers\n",
      "25/02/07 20:04:05 WARN MemoryManager: Total allocation exceeds 95.00% (1,020,054,720 bytes) of heap memory\n",
      "Scaling row group sizes to 95.00% for 8 writers\n",
      "                                                                                \r"
     ]
    }
   ],
   "source": [
    "gold_playlist_info.write.mode(\"overwrite\").parquet(\"./gold/parquet/playlists/\")\n",
    "gold_playlist_tracks.write.mode(\"overwrite\").parquet(\"./gold/parquet/playlist_tracks/\")"
   ]
  },
  {
   "cell_type": "markdown",
   "metadata": {},
   "source": [
    "A adoção do Parquet em Data Lakes traz desafios como a evolução do esquema, que exige gerenciamento rigoroso para adaptar mudanças na estrutura de dados sem comprometer a compatibilidade. Além disso, o formato não suporta nativamente operações de atualização/exclusão eficientes, obrigando a regravação de arquivos inteiros, o que é custoso em grandes volumes. Particionamento inadequado pode gerar problemas de desempenho, e a concorrência em leitura/gravação exige mecanismos extras para garantir consistência.\n",
    "\n",
    "Outros obstáculos incluem a complexidade no gerenciamento de metadados (essencial para consultas eficientes) e a escolha de estratégias de compressão balanceadas entre armazenamento e desempenho. A integração com ferramentas de análise também pode demandar ajustes. Apesar dessas limitações, o Parquet permanece vantajoso para cenários de leitura, desde que seus desafios sejam mitigados com planejamento e boas práticas de arquitetura."
   ]
  }
 ],
 "metadata": {
  "kernelspec": {
   "display_name": "Python 3",
   "language": "python",
   "name": "python3"
  },
  "language_info": {
   "codemirror_mode": {
    "name": "ipython",
    "version": 3
   },
   "file_extension": ".py",
   "mimetype": "text/x-python",
   "name": "python",
   "nbconvert_exporter": "python",
   "pygments_lexer": "ipython3",
   "version": "3.11.2"
  }
 },
 "nbformat": 4,
 "nbformat_minor": 2
}
